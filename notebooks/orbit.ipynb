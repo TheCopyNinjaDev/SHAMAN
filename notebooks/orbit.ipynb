{
 "cells": [
  {
   "cell_type": "code",
   "execution_count": 5,
   "metadata": {
    "collapsed": true
   },
   "outputs": [],
   "source": [
    "import numpy as np\n",
    "import pandas as pd\n",
    "import matplotlib\n",
    "import matplotlib.pyplot as plt\n",
    "import matplotlib.style\n",
    "plt.style.use('seaborn')"
   ]
  },
  {
   "cell_type": "code",
   "execution_count": 6,
   "outputs": [],
   "source": [
    "stocks = ['AAPL', 'ATVI', 'MRNA', 'SPCE', 'TSLA']"
   ],
   "metadata": {
    "collapsed": false,
    "pycharm": {
     "name": "#%%\n"
    }
   }
  },
  {
   "cell_type": "code",
   "execution_count": 7,
   "outputs": [
    {
     "data": {
      "text/plain": "                       time   price\n0 2021-06-01 04:00:00+00:00  125.00\n1 2021-06-01 04:15:00+00:00  125.17\n2 2021-06-01 04:30:00+00:00  125.20\n3 2021-06-01 04:45:00+00:00  125.30\n4 2021-06-01 05:00:00+00:00  125.38",
      "text/html": "<div>\n<style scoped>\n    .dataframe tbody tr th:only-of-type {\n        vertical-align: middle;\n    }\n\n    .dataframe tbody tr th {\n        vertical-align: top;\n    }\n\n    .dataframe thead th {\n        text-align: right;\n    }\n</style>\n<table border=\"1\" class=\"dataframe\">\n  <thead>\n    <tr style=\"text-align: right;\">\n      <th></th>\n      <th>time</th>\n      <th>price</th>\n    </tr>\n  </thead>\n  <tbody>\n    <tr>\n      <th>0</th>\n      <td>2021-06-01 04:00:00+00:00</td>\n      <td>125.00</td>\n    </tr>\n    <tr>\n      <th>1</th>\n      <td>2021-06-01 04:15:00+00:00</td>\n      <td>125.17</td>\n    </tr>\n    <tr>\n      <th>2</th>\n      <td>2021-06-01 04:30:00+00:00</td>\n      <td>125.20</td>\n    </tr>\n    <tr>\n      <th>3</th>\n      <td>2021-06-01 04:45:00+00:00</td>\n      <td>125.30</td>\n    </tr>\n    <tr>\n      <th>4</th>\n      <td>2021-06-01 05:00:00+00:00</td>\n      <td>125.38</td>\n    </tr>\n  </tbody>\n</table>\n</div>"
     },
     "execution_count": 7,
     "metadata": {},
     "output_type": "execute_result"
    }
   ],
   "source": [
    "dfs = [pd.read_csv(f'../data/{stocks[i]}/2021-06-01 - 2021-09-01.csv', index_col=0, parse_dates=['time'], dayfirst=True) for i in range(len(stocks))]\n",
    "for index, stock in enumerate(stocks):\n",
    "    dfs[index].name = stock\n",
    "dfs[0].head()"
   ],
   "metadata": {
    "collapsed": false,
    "pycharm": {
     "name": "#%%\n"
    }
   }
  },
  {
   "cell_type": "code",
   "execution_count": 8,
   "outputs": [],
   "source": [
    "test_size = 74\n",
    "train = dfs[0][:-test_size]\n",
    "test = dfs[0][-test_size:]"
   ],
   "metadata": {
    "collapsed": false,
    "pycharm": {
     "name": "#%%\n"
    }
   }
  },
  {
   "cell_type": "code",
   "execution_count": 9,
   "outputs": [],
   "source": [
    "import models.OrbitETS as ets\n",
    "model = ets.OrbitETS(date_col='time', response_col='price')"
   ],
   "metadata": {
    "collapsed": false,
    "pycharm": {
     "name": "#%%\n"
    }
   }
  },
  {
   "cell_type": "code",
   "execution_count": 10,
   "outputs": [
    {
     "data": {
      "text/plain": "0      2021-06-01 04:00:00+00:00\n1      2021-06-01 04:15:00+00:00\n2      2021-06-01 04:30:00+00:00\n3      2021-06-01 04:45:00+00:00\n4      2021-06-01 05:00:00+00:00\n                  ...           \n4870   2021-08-31 21:30:00+00:00\n4871   2021-08-31 21:45:00+00:00\n4872   2021-08-31 22:00:00+00:00\n4873   2021-08-31 22:15:00+00:00\n4874   2021-08-31 22:30:00+00:00\nName: time, Length: 4875, dtype: datetime64[ns, UTC]"
     },
     "execution_count": 10,
     "metadata": {},
     "output_type": "execute_result"
    }
   ],
   "source": [
    "dfs[0]['time']"
   ],
   "metadata": {
    "collapsed": false,
    "pycharm": {
     "name": "#%%\n"
    }
   }
  },
  {
   "cell_type": "code",
   "execution_count": 11,
   "outputs": [
    {
     "name": "stderr",
     "output_type": "stream",
     "text": [
      "  0%|          | 0/5 [00:00<?, ?it/s]WARNING:pystan:Maximum (flat) parameter count (1000) exceeded: skipping diagnostic tests for n_eff and Rhat.\n",
      "To run all diagnostics call pystan.check_hmc_diagnostics(fit)\n",
      " 20%|██        | 1/5 [00:06<00:27,  6.78s/it]WARNING:pystan:Maximum (flat) parameter count (1000) exceeded: skipping diagnostic tests for n_eff and Rhat.\n",
      "To run all diagnostics call pystan.check_hmc_diagnostics(fit)\n",
      " 40%|████      | 2/5 [00:10<00:14,  4.85s/it]WARNING:pystan:Maximum (flat) parameter count (1000) exceeded: skipping diagnostic tests for n_eff and Rhat.\n",
      "To run all diagnostics call pystan.check_hmc_diagnostics(fit)\n",
      " 60%|██████    | 3/5 [00:16<00:11,  5.66s/it]WARNING:pystan:Maximum (flat) parameter count (1000) exceeded: skipping diagnostic tests for n_eff and Rhat.\n",
      "To run all diagnostics call pystan.check_hmc_diagnostics(fit)\n",
      " 80%|████████  | 4/5 [00:21<00:05,  5.26s/it]WARNING:pystan:Maximum (flat) parameter count (1000) exceeded: skipping diagnostic tests for n_eff and Rhat.\n",
      "To run all diagnostics call pystan.check_hmc_diagnostics(fit)\n",
      "100%|██████████| 5/5 [00:29<00:00,  5.80s/it]\n"
     ]
    },
    {
     "data": {
      "text/plain": "{'AAPL': 0.7047505497013201,\n 'ATVI': 1.0274274900057825,\n 'MRNA': 38.31669573386325,\n 'SPCE': 3.355174755234035,\n 'TSLA': 15.891183787675374}"
     },
     "execution_count": 11,
     "metadata": {},
     "output_type": "execute_result"
    }
   ],
   "source": [
    "from metrics import pipeline\n",
    "pipeline(dfs, model)"
   ],
   "metadata": {
    "collapsed": false,
    "pycharm": {
     "name": "#%%\n"
    }
   }
  }
 ],
 "metadata": {
  "kernelspec": {
   "display_name": "Python 3",
   "language": "python",
   "name": "python3"
  },
  "language_info": {
   "codemirror_mode": {
    "name": "ipython",
    "version": 2
   },
   "file_extension": ".py",
   "mimetype": "text/x-python",
   "name": "python",
   "nbconvert_exporter": "python",
   "pygments_lexer": "ipython2",
   "version": "2.7.6"
  }
 },
 "nbformat": 4,
 "nbformat_minor": 0
}