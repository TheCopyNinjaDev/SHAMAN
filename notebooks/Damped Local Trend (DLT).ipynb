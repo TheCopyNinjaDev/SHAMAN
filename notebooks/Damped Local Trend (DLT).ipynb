{
 "cells": [
  {
   "cell_type": "code",
   "execution_count": 3,
   "metadata": {
    "collapsed": true
   },
   "outputs": [],
   "source": [
    "import numpy as np\n",
    "import pandas as pd\n",
    "import matplotlib\n",
    "import matplotlib.pyplot as plt\n",
    "plt.style.use('seaborn')"
   ]
  },
  {
   "cell_type": "code",
   "execution_count": 4,
   "outputs": [],
   "source": [
    "from orbit.models.dlt import DLTMAP"
   ],
   "metadata": {
    "collapsed": false,
    "pycharm": {
     "name": "#%%\n"
    }
   }
  },
  {
   "cell_type": "code",
   "execution_count": 5,
   "outputs": [],
   "source": [
    "stocks = ['AAPL', 'ATVI', 'MRNA', 'SPCE', 'TSLA']"
   ],
   "metadata": {
    "collapsed": false,
    "pycharm": {
     "name": "#%%\n"
    }
   }
  },
  {
   "cell_type": "code",
   "execution_count": 6,
   "outputs": [
    {
     "data": {
      "text/plain": "                       time   price\n0 2021-06-01 04:00:00+00:00  125.00\n1 2021-06-01 04:15:00+00:00  125.17\n2 2021-06-01 04:30:00+00:00  125.20\n3 2021-06-01 04:45:00+00:00  125.30\n4 2021-06-01 05:00:00+00:00  125.38",
      "text/html": "<div>\n<style scoped>\n    .dataframe tbody tr th:only-of-type {\n        vertical-align: middle;\n    }\n\n    .dataframe tbody tr th {\n        vertical-align: top;\n    }\n\n    .dataframe thead th {\n        text-align: right;\n    }\n</style>\n<table border=\"1\" class=\"dataframe\">\n  <thead>\n    <tr style=\"text-align: right;\">\n      <th></th>\n      <th>time</th>\n      <th>price</th>\n    </tr>\n  </thead>\n  <tbody>\n    <tr>\n      <th>0</th>\n      <td>2021-06-01 04:00:00+00:00</td>\n      <td>125.00</td>\n    </tr>\n    <tr>\n      <th>1</th>\n      <td>2021-06-01 04:15:00+00:00</td>\n      <td>125.17</td>\n    </tr>\n    <tr>\n      <th>2</th>\n      <td>2021-06-01 04:30:00+00:00</td>\n      <td>125.20</td>\n    </tr>\n    <tr>\n      <th>3</th>\n      <td>2021-06-01 04:45:00+00:00</td>\n      <td>125.30</td>\n    </tr>\n    <tr>\n      <th>4</th>\n      <td>2021-06-01 05:00:00+00:00</td>\n      <td>125.38</td>\n    </tr>\n  </tbody>\n</table>\n</div>"
     },
     "execution_count": 6,
     "metadata": {},
     "output_type": "execute_result"
    }
   ],
   "source": [
    "dfs = [pd.read_csv(f'../data/{stocks[i]}/2021-06-01 - 2021-09-01.csv', index_col=0, parse_dates=['time'], dayfirst=True) for i in range(len(stocks))]\n",
    "for index, stock in enumerate(stocks):\n",
    "    dfs[index].name = stock\n",
    "dfs[0].head()"
   ],
   "metadata": {
    "collapsed": false,
    "pycharm": {
     "name": "#%%\n"
    }
   }
  },
  {
   "cell_type": "code",
   "execution_count": 7,
   "outputs": [],
   "source": [
    "dlt = DLTMAP(\n",
    "    response_col='price',\n",
    "    date_col='time',\n",
    ")"
   ],
   "metadata": {
    "collapsed": false,
    "pycharm": {
     "name": "#%%\n"
    }
   }
  },
  {
   "cell_type": "code",
   "execution_count": null,
   "outputs": [],
   "source": [
    "%%time\n",
    "\n",
    "dlt"
   ],
   "metadata": {
    "collapsed": false,
    "pycharm": {
     "name": "#%%\n"
    }
   }
  }
 ],
 "metadata": {
  "kernelspec": {
   "display_name": "Python 3",
   "language": "python",
   "name": "python3"
  },
  "language_info": {
   "codemirror_mode": {
    "name": "ipython",
    "version": 2
   },
   "file_extension": ".py",
   "mimetype": "text/x-python",
   "name": "python",
   "nbconvert_exporter": "python",
   "pygments_lexer": "ipython2",
   "version": "2.7.6"
  }
 },
 "nbformat": 4,
 "nbformat_minor": 0
}